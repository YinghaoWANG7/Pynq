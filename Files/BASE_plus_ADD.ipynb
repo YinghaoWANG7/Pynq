{
 "cells": [
  {
   "cell_type": "code",
   "execution_count": 7,
   "metadata": {},
   "outputs": [],
   "source": [
    "from pynq import DefaultIP"
   ]
  },
  {
   "cell_type": "code",
   "execution_count": 8,
   "metadata": {},
   "outputs": [],
   "source": [
    "class AddDriver(DefaultIP):\n",
    "    def __init__(self, description):\n",
    "        super().__init__(description=description)\n",
    "        \n",
    "    bindto = ['xilinx.com:hls:add:1.0']\n",
    " \n",
    "    def add(self, a, b):\n",
    "        a_1 = self.register_map.a\n",
    "        #print(a, type(a))\n",
    "        self.write(a_1.address, a) \n",
    "        b_1 = self.register_map.b\n",
    "        self.write(b_1.address, b)\n",
    "        c = self.register_map.c\n",
    "        return self.read(c.address)"
   ]
  },
  {
   "cell_type": "code",
   "execution_count": 9,
   "metadata": {},
   "outputs": [],
   "source": [
    "from pynq import Overlay\n",
    "base = Overlay('/home/xilinx/jupyter_notebooks/Yinghao_WANG/base_add.bit')"
   ]
  },
  {
   "cell_type": "code",
   "execution_count": 10,
   "metadata": {},
   "outputs": [
    {
     "data": {
      "text/plain": [
       "\u001b[0;31mType:\u001b[0m            Overlay\n",
       "\u001b[0;31mString form:\u001b[0m     <pynq.overlay.Overlay object at 0xad7767d0>\n",
       "\u001b[0;31mFile:\u001b[0m            /usr/local/lib/python3.6/dist-packages/pynq/overlay.py\n",
       "\u001b[0;31mDocstring:\u001b[0m      \n",
       "Default documentation for overlay /home/xilinx/jupyter_notebooks/Yinghao_WANG/base_add.bit. The following\n",
       "attributes are available on this overlay:\n",
       "\n",
       "IP Blocks\n",
       "----------\n",
       "iop_pmoda/mb_bram_ctrl : pynq.overlay.DefaultIP\n",
       "switches_gpio        : pynq.lib.axigpio.AxiGPIO\n",
       "btns_gpio            : pynq.lib.axigpio.AxiGPIO\n",
       "video/hdmi_in/frontend/axi_gpio_hdmiin : pynq.lib.axigpio.AxiGPIO\n",
       "video/hdmi_out/frontend/hdmi_out_hpd_video : pynq.lib.axigpio.AxiGPIO\n",
       "rgbleds_gpio         : pynq.lib.axigpio.AxiGPIO\n",
       "leds_gpio            : pynq.lib.axigpio.AxiGPIO\n",
       "system_interrupts    : pynq.overlay.DefaultIP\n",
       "iop_pmodb/mb_bram_ctrl : pynq.overlay.DefaultIP\n",
       "video/axi_vdma       : pynq.lib.video.dma.AxiVDMA\n",
       "audio_codec_ctrl_0   : pynq.lib.audio.AudioADAU1761\n",
       "video/hdmi_out/frontend/axi_dynclk : pynq.overlay.DefaultIP\n",
       "video/hdmi_out/frontend/vtc_out : pynq.overlay.DefaultIP\n",
       "video/hdmi_in/frontend/vtc_in : pynq.overlay.DefaultIP\n",
       "video/hdmi_in/pixel_pack : pynq.lib.video.pipeline.PixelPacker\n",
       "video/hdmi_in/color_convert : pynq.lib.video.pipeline.ColorConverter\n",
       "video/hdmi_out/color_convert : pynq.lib.video.pipeline.ColorConverter\n",
       "video/hdmi_out/pixel_unpack : pynq.lib.video.pipeline.PixelPacker\n",
       "add_0                : __main__.AddDriver\n",
       "iop_arduino/mb_bram_ctrl : pynq.overlay.DefaultIP\n",
       "iop_rpi/mb_bram_ctrl : pynq.overlay.DefaultIP\n",
       "trace_analyzer_pmodb/axi_dma_0 : pynq.lib.dma.DMA\n",
       "trace_analyzer_pi/axi_dma_0 : pynq.lib.dma.DMA\n",
       "trace_analyzer_pi/trace_cntrl_64_0 : pynq.overlay.DefaultIP\n",
       "trace_analyzer_pmodb/trace_cntrl_32_0 : pynq.overlay.DefaultIP\n",
       "ps7_0                : pynq.overlay.DefaultIP\n",
       "\n",
       "Hierarchies\n",
       "-----------\n",
       "trace_analyzer_pi    : pynq.overlay.DefaultHierarchy\n",
       "video/hdmi_in        : pynq.lib.video.hierarchies.VideoIn\n",
       "video/hdmi_out/frontend : pynq.lib.video.dvi.HDMIOutFrontend\n",
       "video/hdmi_in/frontend : pynq.lib.video.dvi.HDMIInFrontend\n",
       "trace_analyzer_pmodb : pynq.overlay.DefaultHierarchy\n",
       "iop_rpi              : pynq.lib.pynqmicroblaze.pynqmicroblaze.MicroblazeHierarchy\n",
       "video/hdmi_out       : pynq.lib.video.hierarchies.VideoOut\n",
       "iop_pmoda            : pynq.lib.pynqmicroblaze.pynqmicroblaze.MicroblazeHierarchy\n",
       "iop_pmodb            : pynq.lib.pynqmicroblaze.pynqmicroblaze.MicroblazeHierarchy\n",
       "video                : pynq.lib.video.hierarchies.HDMIWrapper\n",
       "iop_arduino          : pynq.lib.pynqmicroblaze.pynqmicroblaze.MicroblazeHierarchy\n",
       "\n",
       "Interrupts\n",
       "----------\n",
       "None\n",
       "\n",
       "GPIO Outputs\n",
       "------------\n",
       "None\n",
       "\n",
       "Memories\n",
       "------------\n",
       "ps7_0                : Memory\n",
       "\u001b[0;31mClass docstring:\u001b[0m\n",
       "This class keeps track of a single bitstream's state and contents.\n",
       "\n",
       "The overlay class holds the state of the bitstream and enables run-time\n",
       "protection of bindings.\n",
       "\n",
       "Our definition of overlay is: \"post-bitstream configurable design\".\n",
       "Hence, this class must expose configurability through content discovery\n",
       "and runtime protection.\n",
       "\n",
       "The overlay class exposes the IP and hierarchies as attributes in the\n",
       "overlay. If no other drivers are available the `DefaultIP` is constructed\n",
       "for IP cores at top level and `DefaultHierarchy` for any hierarchies that\n",
       "contain addressable IP. Custom drivers can be bound to IP and hierarchies\n",
       "by subclassing `DefaultIP` and `DefaultHierarchy`. See the help entries\n",
       "for those class for more details.\n",
       "\n",
       "This class stores four dictionaries: IP, GPIO, interrupt controller\n",
       "and interrupt pin dictionaries.\n",
       "\n",
       "Each entry of the IP dictionary is a mapping:\n",
       "'name' -> {phys_addr, addr_range, type, config, state}, where\n",
       "name (str) is the key of the entry.\n",
       "phys_addr (int) is the physical address of the IP.\n",
       "addr_range (int) is the address range of the IP.\n",
       "type (str) is the type of the IP.\n",
       "config (dict) is a dictionary of the configuration parameters.\n",
       "state (str) is the state information about the IP.\n",
       "\n",
       "Each entry of the GPIO dictionary is a mapping:\n",
       "'name' -> {pin, state}, where\n",
       "name (str) is the key of the entry.\n",
       "pin (int) is the user index of the GPIO, starting from 0.\n",
       "state (str) is the state information about the GPIO.\n",
       "\n",
       "Each entry in the interrupt controller dictionary is a mapping:\n",
       "'name' -> {parent, index}, where\n",
       "name (str) is the name of the interrupt controller.\n",
       "parent (str) is the name of the parent controller or '' if attached\n",
       "directly to the PS.\n",
       "index (int) is the index of the interrupt attached to.\n",
       "\n",
       "Each entry in the interrupt pin dictionary is a mapping:\n",
       "'name' -> {controller, index}, where\n",
       "name (str) is the name of the pin.\n",
       "controller (str) is the name of the interrupt controller.\n",
       "index (int) is the line index.\n",
       "\n",
       "Attributes\n",
       "----------\n",
       "bitfile_name : str\n",
       "    The absolute path of the bitstream.\n",
       "dtbo : str\n",
       "    The absolute path of the dtbo file for the full bitstream.\n",
       "ip_dict : dict\n",
       "    All the addressable IPs from PS. Key is the name of the IP; value is\n",
       "    a dictionary mapping the physical address, address range, IP type,\n",
       "    parameters, registers, and the state associated with that IP:\n",
       "    {str: {'phys_addr' : int, 'addr_range' : int,                'type' : str, 'parameters' : dict, 'registers': dict,                'state' : str}}.\n",
       "gpio_dict : dict\n",
       "    All the GPIO pins controlled by PS. Key is the name of the GPIO pin;\n",
       "    value is a dictionary mapping user index (starting from 0),\n",
       "    and the state associated with that GPIO pin:\n",
       "    {str: {'index' : int, 'state' : str}}.\n",
       "interrupt_controllers : dict\n",
       "    All AXI interrupt controllers in the system attached to\n",
       "    a PS interrupt line. Key is the name of the controller;\n",
       "    value is a dictionary mapping parent interrupt controller and the\n",
       "    line index of this interrupt:\n",
       "    {str: {'parent': str, 'index' : int}}.\n",
       "    The PS is the root of the hierarchy and is unnamed.\n",
       "interrupt_pins : dict\n",
       "    All pins in the design attached to an interrupt controller.\n",
       "    Key is the name of the pin; value is a dictionary\n",
       "    mapping the interrupt controller and the line index used:\n",
       "    {str: {'controller' : str, 'index' : int}}.\n",
       "pr_dict : dict\n",
       "    Dictionary mapping from the name of the partial-reconfigurable\n",
       "    hierarchical blocks to the loaded partial bitstreams:\n",
       "    {str: {'loaded': str, 'dtbo': str}}.\n",
       "device : pynq.Device\n",
       "    The device that the overlay is loaded on\n",
       "\u001b[0;31mInit docstring:\u001b[0m \n",
       "Return a new Overlay object.\n",
       "\n",
       "An overlay instantiates a bitstream object as a member initially.\n",
       "\n",
       "Parameters\n",
       "----------\n",
       "bitfile_name : str\n",
       "    The bitstream name or absolute path as a string.\n",
       "dtbo : str\n",
       "    The dtbo file name or absolute path as a string.\n",
       "download : bool\n",
       "    Whether the overlay should be downloaded.\n",
       "ignore_version : bool\n",
       "    Indicate whether or not to ignore the driver versions.\n",
       "device : pynq.Device\n",
       "    Device on which to load the Overlay. Defaults to\n",
       "    pynq.Device.active_device\n",
       "\n",
       "Note\n",
       "----\n",
       "This class requires a HWH file to be next to bitstream file\n",
       "with same name (e.g. `base.bit` and `base.hwh`).\n"
      ]
     },
     "metadata": {},
     "output_type": "display_data"
    }
   ],
   "source": [
    "base?"
   ]
  },
  {
   "cell_type": "code",
   "execution_count": 11,
   "metadata": {},
   "outputs": [],
   "source": [
    "led0 =base.leds_gpio.channel1[0]"
   ]
  },
  {
   "cell_type": "code",
   "execution_count": 12,
   "metadata": {},
   "outputs": [
    {
     "data": {
      "text/plain": [
       "\u001b[0;31mType:\u001b[0m        InOut\n",
       "\u001b[0;31mString form:\u001b[0m <pynq.lib.axigpio.AxiGPIO.InOut object at 0xafbffbd0>\n",
       "\u001b[0;31mFile:\u001b[0m        /usr/local/lib/python3.6/dist-packages/pynq/lib/axigpio.py\n",
       "\u001b[0;31mDocstring:\u001b[0m  \n",
       "Class representing wires in an inout channel.\n",
       "\n",
       "This class should be passed to `setdirection` to indicate the\n",
       "channel should be used for both input and output. It should not\n",
       "be used directly.\n"
      ]
     },
     "metadata": {},
     "output_type": "display_data"
    }
   ],
   "source": [
    "led0?"
   ]
  },
  {
   "cell_type": "code",
   "execution_count": 13,
   "metadata": {},
   "outputs": [],
   "source": [
    "led0.off()\n"
   ]
  },
  {
   "cell_type": "code",
   "execution_count": 14,
   "metadata": {},
   "outputs": [
    {
     "data": {
      "text/plain": [
       "20"
      ]
     },
     "execution_count": 14,
     "metadata": {},
     "output_type": "execute_result"
    }
   ],
   "source": [
    "base.add_0.add(5,15)"
   ]
  },
  {
   "cell_type": "code",
   "execution_count": 15,
   "metadata": {},
   "outputs": [
    {
     "data": {
      "text/plain": [
       "RegisterMap {\n",
       "  a = Register(a=5),\n",
       "  b = Register(b=15),\n",
       "  c = Register(c=20),\n",
       "  c_ctrl = Register(c_ap_vld=1, RESERVED=0)\n",
       "}"
      ]
     },
     "execution_count": 15,
     "metadata": {},
     "output_type": "execute_result"
    }
   ],
   "source": [
    "base.add_0.register_map"
   ]
  },
  {
   "cell_type": "code",
   "execution_count": 16,
   "metadata": {},
   "outputs": [
    {
     "data": {
      "text/plain": [
       "20"
      ]
     },
     "execution_count": 16,
     "metadata": {},
     "output_type": "execute_result"
    }
   ],
   "source": [
    "base.add_0.add(5,15)"
   ]
  },
  {
   "cell_type": "code",
   "execution_count": null,
   "metadata": {},
   "outputs": [],
   "source": []
  }
 ],
 "metadata": {
  "kernelspec": {
   "display_name": "Python 3",
   "language": "python",
   "name": "python3"
  },
  "language_info": {
   "codemirror_mode": {
    "name": "ipython",
    "version": 3
   },
   "file_extension": ".py",
   "mimetype": "text/x-python",
   "name": "python",
   "nbconvert_exporter": "python",
   "pygments_lexer": "ipython3",
   "version": "3.6.5"
  }
 },
 "nbformat": 4,
 "nbformat_minor": 4
}
